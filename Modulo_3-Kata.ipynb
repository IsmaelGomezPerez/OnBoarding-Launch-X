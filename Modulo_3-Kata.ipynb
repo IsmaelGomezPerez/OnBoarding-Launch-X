{
 "cells": [
  {
   "cell_type": "markdown",
   "metadata": {},
   "source": [
    "# Modulo 3 | Kata"
   ]
  },
  {
   "cell_type": "markdown",
   "metadata": {},
   "source": [
    "Problema No. 1"
   ]
  },
  {
   "cell_type": "code",
   "execution_count": 1,
   "metadata": {},
   "outputs": [
    {
     "name": "stdout",
     "output_type": "stream",
     "text": [
      "¡¡Advertencia!!, asteroide aproximandose\n"
     ]
    }
   ],
   "source": [
    "# Añadir el código necesario para crear una variable que guarde la velocidad del asteroide.\n",
    "# Escribe una expresión de prueba para calcular si necesita una advertencia.\n",
    "# Agregue las instrucciones que se ejecutarán si la expresión de prueba es true o false.\n",
    "\n",
    "velocidad_asteroide=49\n",
    "if velocidad_asteroide>25:\n",
    "    print(\"¡¡Advertencia!!, asteroide aproximandose\")\n",
    "else:\n",
    "    print(\"Todo OK, parametros normales\")"
   ]
  },
  {
   "cell_type": "markdown",
   "metadata": {},
   "source": [
    "Problema No. 2"
   ]
  },
  {
   "cell_type": "code",
   "execution_count": 2,
   "metadata": {},
   "outputs": [
    {
     "name": "stdout",
     "output_type": "stream",
     "text": [
      "Sin alguna novedad\n"
     ]
    }
   ],
   "source": [
    "# Agrega el código para crear una variable para un asteroide que viaja a 19 km/s\n",
    "# Escribe varias expresiones de prueba para determinar si puedes ver el rayo de luz desde la tierra\n",
    "# Agrega las instrucciones que se ejecutarán si las expresiones de prueba son True o False\n",
    "velocidad_asteroide_luz=19\n",
    "if velocidad_asteroide_luz>20:\n",
    "    print(\"¡¡Espectaculo estelar!! Rayo de luz en el cielo\")\n",
    "elif velocidad_asteroide_luz==20:\n",
    "    print(\"¡¡Espectaculo estelar!! Rayo de luz en el cielo\")\n",
    "else:\n",
    "    print(\"Sin alguna novedad\")\n"
   ]
  },
  {
   "cell_type": "markdown",
   "metadata": {},
   "source": [
    "Problema No. 3"
   ]
  },
  {
   "cell_type": "code",
   "execution_count": 3,
   "metadata": {},
   "outputs": [
    {
     "name": "stdout",
     "output_type": "stream",
     "text": [
      "¡¡Advertencia!!, asteroide aproximandose\n"
     ]
    }
   ],
   "source": [
    "# Agrega el código para crear nuevas variables para la velocidad y el tamaño del asteroide\n",
    "# Para probar el código, prueba con varias velocidades y tamaños\n",
    "# Escribe varias expresiones de prueba o combinaciones de expresiones de prueba para determinar qué mensaje se debe enviar a Tierra.\n",
    "\n",
    "velocidad_asteroide=25\n",
    "tamaño_asteroide=40\n",
    "if velocidad_asteroide>25 and tamaño_asteroide> 25:\n",
    "    print(\"¡¡ALERTA MAXIMA!! Asteroide peligroso en trayectoria a la tierra\")\n",
    "elif velocidad_asteroide>25 or tamaño_asteroide> 25:\n",
    "    print(\"¡¡Advertencia!!, asteroide aproximandose\")\n",
    "elif velocidad_asteroide==20:\n",
    "    print(\"¡¡Espectaculo estelar!! Rayo de luz en el cielo\")\n",
    "else:\n",
    "    print(\"Todo OK, parametros normales\")"
   ]
  }
 ],
 "metadata": {
  "interpreter": {
   "hash": "b89b5cfaba6639976dc87ff2fec6d58faec662063367e2c229c520fe71072417"
  },
  "kernelspec": {
   "display_name": "Python 3.10.2 64-bit",
   "language": "python",
   "name": "python3"
  },
  "language_info": {
   "codemirror_mode": {
    "name": "ipython",
    "version": 3
   },
   "file_extension": ".py",
   "mimetype": "text/x-python",
   "name": "python",
   "nbconvert_exporter": "python",
   "pygments_lexer": "ipython3",
   "version": "3.10.2"
  },
  "orig_nbformat": 4
 },
 "nbformat": 4,
 "nbformat_minor": 2
}
