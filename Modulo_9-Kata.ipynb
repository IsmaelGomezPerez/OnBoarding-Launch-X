{
 "cells": [
  {
   "cell_type": "markdown",
   "metadata": {},
   "source": [
    "# Modulo 8 | Kata"
   ]
  },
  {
   "cell_type": "markdown",
   "metadata": {},
   "source": [
    "Ejercicio 1: Trabajar con argumentos en funciones"
   ]
  },
  {
   "cell_type": "markdown",
   "metadata": {},
   "source": [
    "Crear una función que necesite tres lecturas de combustible y devuelva un informe"
   ]
  },
  {
   "cell_type": "code",
   "execution_count": null,
   "metadata": {},
   "outputs": [],
   "source": [
    "def informe_tanque(tanque1,tanque2,tanque3,):\n",
    "    return \"Infomre: \\nTanque 1: {}\\nTanque 2: {}\\nTanque 3: {}\\nPromedio de combustible: {}\".format(tanque1,tanque2,tanque3,(tanque1+tanque2+tanque3)/3)"
   ]
  },
  {
   "cell_type": "code",
   "execution_count": null,
   "metadata": {},
   "outputs": [],
   "source": [
    "print(informe_tanque(55,80,87))"
   ]
  },
  {
   "cell_type": "markdown",
   "metadata": {},
   "source": [
    "Función para leer 3 tanques de combustible y muestre el promedio"
   ]
  },
  {
   "cell_type": "code",
   "execution_count": null,
   "metadata": {},
   "outputs": [],
   "source": [
    "def prom_tanque(*tanques):\n",
    "    return sum(tanques)/len(tanques)"
   ]
  },
  {
   "cell_type": "markdown",
   "metadata": {},
   "source": [
    "Ahora actualiza la función de informes para llamando a la nueva función del promedio:"
   ]
  },
  {
   "cell_type": "code",
   "execution_count": null,
   "metadata": {},
   "outputs": [],
   "source": [
    "def informe_tanque(tanque1,tanque2,tanque3,):\n",
    "    return \"Infomre: \\nTanque 1: {}\\nTanque 2: {}\\nTanque 3: {}\\nPromedio de combustible: {}\".format(tanque1,tanque2,tanque3,prom_tanque(tanque1,tanque2,tanque3))\n",
    "print(informe_tanque(55,80,87))"
   ]
  },
  {
   "cell_type": "markdown",
   "metadata": {},
   "source": [
    "Ejercicio 2: Trabajo con argumentos de palabra clave"
   ]
  },
  {
   "cell_type": "markdown",
   "metadata": {},
   "source": [
    "Crear una función que creará un informe preciso de la misión:"
   ]
  },
  {
   "cell_type": "code",
   "execution_count": 21,
   "metadata": {},
   "outputs": [
    {
     "name": "stdout",
     "output_type": "stream",
     "text": [
      "Infomre: \n",
      "Hora de prelanzamiento: 55\n",
      "Tiempo de vuelo: 80\n",
      "Destino: 87\n",
      "Tanque externo: 21\n",
      "Tanque interno: 3\n"
     ]
    }
   ],
   "source": [
    "def informe_mision(pre_lanza,tiempo_vuelo,destino,tanque_externo,tanque_interno):\n",
    "    return \"Infomre: \\nHora de prelanzamiento: {}\\nTiempo de vuelo: {}\\nDestino: {}\\nTanque externo: {}\\nTanque interno: {}\".format(pre_lanza,tiempo_vuelo,destino,tanque_externo,tanque_interno)\n",
    "print(informe_mision(55,80,87,21,3))"
   ]
  },
  {
   "cell_type": "code",
   "execution_count": 24,
   "metadata": {},
   "outputs": [
    {
     "name": "stdout",
     "output_type": "stream",
     "text": [
      "Infomre:\n",
      "Destino: moon\n",
      "Tiempo de vuelo: 167\n",
      "Capaciodad de tanques: 500000\n"
     ]
    }
   ],
   "source": [
    "def informe_mision(destino,*minutos,**tanques):\n",
    "    return \"Infomre:\\nDestino: {}\\nTiempo de vuelo: {}\\nCapaciodad de tanques: {}\".format(destino,sum(minutos),sum(tanques.values()))\n",
    "print(informe_mision(\"moon\",80,87,main=300000, external=200000))"
   ]
  },
  {
   "cell_type": "markdown",
   "metadata": {},
   "source": [
    "Debido a que el combustible que queda en los tanques es específico de cada tanque, actualiza la función para usar el nombre de cada tanque en el informe:"
   ]
  },
  {
   "cell_type": "code",
   "execution_count": 38,
   "metadata": {},
   "outputs": [
    {
     "name": "stdout",
     "output_type": "stream",
     "text": [
      "Infomre:\n",
      "Destino: moon\n",
      "Tiempo de vuelo: 167\n",
      "Capaciodad de tanques: 500000\n",
      "main tank --> 300000 gallons left\n",
      "external tank --> 200000 gallons left\n",
      "\n"
     ]
    }
   ],
   "source": [
    "def informe_mision(destino,*minutos,**tanques):\n",
    "    informe=\"Infomre:\\nDestino: {}\\nTiempo de vuelo: {}\\nCapaciodad de tanques: {}\\n\".format(destino,sum(minutos),sum(tanques.values()))\n",
    "    for tank_name, gallons in tanques.items():\n",
    "        informe += f\"{tank_name} tank --> {gallons} gallons left\\n\"\n",
    "    return informe\n",
    "print(informe_mision(\"moon\",80,87,main=300000, external=200000))"
   ]
  }
 ],
 "metadata": {
  "interpreter": {
   "hash": "b89b5cfaba6639976dc87ff2fec6d58faec662063367e2c229c520fe71072417"
  },
  "kernelspec": {
   "display_name": "Python 3.10.2 64-bit",
   "language": "python",
   "name": "python3"
  },
  "language_info": {
   "codemirror_mode": {
    "name": "ipython",
    "version": 3
   },
   "file_extension": ".py",
   "mimetype": "text/x-python",
   "name": "python",
   "nbconvert_exporter": "python",
   "pygments_lexer": "ipython3",
   "version": "3.10.2"
  },
  "orig_nbformat": 4
 },
 "nbformat": 4,
 "nbformat_minor": 2
}
